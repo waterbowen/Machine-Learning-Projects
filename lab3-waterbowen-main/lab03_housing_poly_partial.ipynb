{
 "cells": [
  {
   "cell_type": "markdown",
   "metadata": {},
   "source": [
    "# Lab:  Model Selection for Boston housing data\n",
    "\n",
    "In this lab, you will apply polynomial regression with model order selection to the Boston housing dataset. \n",
    "\n",
    "Before doing this lab, you should review the ideas in the [polynomial model selection demo](./polyfit.ipynb).  In addition to the concepts in that demo, you will learn to:\n",
    "* Load data\n",
    "* Fit a polynomial model for a given model order \n",
    "* Select the model order via K-fold cross-validation and the one-standard-error rule.\n",
    "  "
   ]
  },
  {
   "cell_type": "markdown",
   "metadata": {},
   "source": [
    "## Loading the data\n",
    "\n",
    "We first load the standard packages."
   ]
  },
  {
   "cell_type": "code",
   "execution_count": 12,
   "metadata": {},
   "outputs": [],
   "source": [
    "import numpy as np\n",
    "import matplotlib\n",
    "import matplotlib.pyplot as plt\n",
    "%matplotlib inline"
   ]
  },
  {
   "cell_type": "markdown",
   "metadata": {},
   "source": [
    "We now load the Boston housing dataset, which happens to be pre-loaded into sklearn."
   ]
  },
  {
   "cell_type": "code",
   "execution_count": 13,
   "metadata": {},
   "outputs": [],
   "source": [
    "from sklearn.datasets import load_boston\n",
    "boston = load_boston()"
   ]
  },
  {
   "cell_type": "markdown",
   "metadata": {},
   "source": [
    "Let's see what the dataset contains."
   ]
  },
  {
   "cell_type": "code",
   "execution_count": null,
   "metadata": {},
   "outputs": [],
   "source": [
    "print(boston.keys())"
   ]
  },
  {
   "cell_type": "markdown",
   "metadata": {},
   "source": [
    "The structure `boston` is made up of\n",
    "* `data`: which contains the information for various houses\n",
    "* `target`: which contains their prices\n",
    "* `feature_names`: which contains the names of the features, and\n",
    "* `DESCR`: which describes the dataset\n",
    "* `filename`: which shows where the file is stored on your local machine\n",
    "\n",
    "Let's print the description."
   ]
  },
  {
   "cell_type": "code",
   "execution_count": null,
   "metadata": {},
   "outputs": [],
   "source": [
    "print(boston.DESCR)"
   ]
  },
  {
   "cell_type": "markdown",
   "metadata": {},
   "source": [
    "Let's turn this dataset into a `pandas` dataframe for ease of handling."
   ]
  },
  {
   "cell_type": "code",
   "execution_count": null,
   "metadata": {},
   "outputs": [],
   "source": [
    "import pandas as pd\n",
    "df = pd.DataFrame(boston.data)\n",
    "df.columns = boston.feature_names\n",
    "df['MEDV'] = boston.target\n",
    "df.head(6)"
   ]
  },
  {
   "cell_type": "markdown",
   "metadata": {},
   "source": [
    "Now, create the target vector `y` using the values in the column `MEDV` using the `numpy.array` command. \n",
    "Similarly, create the feature vector `x` using the values in the `LSTAT` column."
   ]
  },
  {
   "cell_type": "code",
   "execution_count": 6,
   "metadata": {},
   "outputs": [],
   "source": [
    "# TODO\n",
    "# y = ...\n",
    "# X = ...\n"
   ]
  },
  {
   "cell_type": "markdown",
   "metadata": {},
   "source": [
    "# Fitting Models with Different Orders\n",
    "We will now fit the polynomial model to the data using order d = 1 and order d = 15, for illustration.\n",
    "\n",
    "For this, we'll use the `polyfit` command of the `numpy.polynomial.polynomial` library."
   ]
  },
  {
   "cell_type": "code",
   "execution_count": 14,
   "metadata": {},
   "outputs": [],
   "source": [
    "# TODO \n",
    "# Import polynomial library\n",
    "# d1 = 1\n",
    "# d2 = 15\n",
    "# beta1 = \n",
    "# beta2 =\n",
    "# xp = # grid of feature values\n",
    "# yp_hat1 = # target prediction on grid using polynomial order d1\n",
    "# yp_hat2 = # target prediction on grid using polynomial order d2\n",
    "# Make a scatterplot and superimpose prediction curves for d1 and d2\n",
    "# Add grid lines, axis labels, and a legend\n"
   ]
  },
  {
   "cell_type": "markdown",
   "metadata": {},
   "source": [
    "How do these two model orders perform?  Are the results as expected? Can we do better?"
   ]
  },
  {
   "cell_type": "markdown",
   "metadata": {},
   "source": [
    "## K-fold Cross-Validation\n",
    "\n",
    "We now optimize the polynomial model order using 5-fold cross-validation.  You can follow the method used in the polynomial demo.  The first step is to create a matrix of test RSS values over all hypothesized model orders and all splits."
   ]
  },
  {
   "cell_type": "code",
   "execution_count": 8,
   "metadata": {},
   "outputs": [],
   "source": [
    "from sklearn import model_selection\n",
    "\n",
    "# TODO\n",
    "# Create a k-fold object\n",
    "# k = 5\n",
    "# kfo = ...\n",
    "# Model orders to be tested\n",
    "# dtest = \n",
    "# nd = len(dtest)\n",
    "# RSSts = np.zeros((nd,k))\n",
    "# Loop over the folds\n",
    "    # Get the training data in the split\n",
    "    # Loop over the model order\n",
    "        # Fit data on training data\n",
    "        # Measure RSS on test data\n",
    "        # RSSts[it,itsplit] = \n",
    "\n"
   ]
  },
  {
   "cell_type": "markdown",
   "metadata": {},
   "source": [
    "Next, compute the mean and standard error of the RSS over the folds for each model order.  The standard error is defined as the standard deviation divided by $\\sqrt{K}$, where $K$ is the number of folds.  You can use `ddof=1` in `np.std` to get an unbiased SE estimate.\n",
    "\n",
    "With these RSS statistics, use the one-standard-error rule to find the best model order.  Print out the model order that minimizes mean test RSS, as well as the model order estimated by the one-standard-error rule."
   ]
  },
  {
   "cell_type": "code",
   "execution_count": 17,
   "metadata": {},
   "outputs": [],
   "source": [
    "# TODO\n",
    "# compute mean and standard error of RSS\n",
    "# find model order that minimizes test RSS\n",
    "# print(\"The model order that minimizes mean test RSS is ...\")\n",
    "# estimate model order according to the one-standard-error rule\n",
    "# print(\"The model order estimated by the one-standard-error rule is ...\")"
   ]
  },
  {
   "cell_type": "markdown",
   "metadata": {},
   "source": [
    "Next, illustrate the one-standard-error-rule procedure by making a plot that shows the following:\n",
    "* the mean test RSS curve with errorbars\n",
    "* a dashed line showing the model order yielding minimum mean test RSS\n",
    "* a dashed line showing the target RSS\n",
    "* a dashed line showing the model order estimated by the one-standard-error rule\n",
    "\n",
    "Also, add a grid and axis labels to your plot.  Use ylim if needed to zoom into the relevant range."
   ]
  },
  {
   "cell_type": "code",
   "execution_count": 18,
   "metadata": {},
   "outputs": [],
   "source": [
    "# TODO\n"
   ]
  },
  {
   "cell_type": "markdown",
   "metadata": {},
   "source": [
    "Finally, make a scatter plot of the data and superimpose\n",
    "* the polynomial prediction curve with the order that minimizes mean RSS\n",
    "* the polynomial prediction curve with the order selected by the one-standard-error rule\n",
    "\n",
    "As usual, add grid lines, axis labels, and a legend to your curve"
   ]
  },
  {
   "cell_type": "code",
   "execution_count": 19,
   "metadata": {},
   "outputs": [],
   "source": [
    "# fit the model\n",
    "# compute the polynomial prediction curve \n",
    "# make scatterplot and superimpose curves\n",
    "# add legend, axis labels, grid"
   ]
  },
  {
   "cell_type": "code",
   "execution_count": null,
   "metadata": {},
   "outputs": [],
   "source": []
  }
 ],
 "metadata": {
  "anaconda-cloud": {},
  "kernelspec": {
   "display_name": "Python 3",
   "language": "python",
   "name": "python3"
  },
  "language_info": {
   "codemirror_mode": {
    "name": "ipython",
    "version": 3
   },
   "file_extension": ".py",
   "mimetype": "text/x-python",
   "name": "python",
   "nbconvert_exporter": "python",
   "pygments_lexer": "ipython3",
   "version": "3.8.5"
  },
  "varInspector": {
   "cols": {
    "lenName": 16,
    "lenType": 16,
    "lenVar": 40
   },
   "kernels_config": {
    "python": {
     "delete_cmd_postfix": "",
     "delete_cmd_prefix": "del ",
     "library": "var_list.py",
     "varRefreshCmd": "print(var_dic_list())"
    },
    "r": {
     "delete_cmd_postfix": ") ",
     "delete_cmd_prefix": "rm(",
     "library": "var_list.r",
     "varRefreshCmd": "cat(var_dic_list()) "
    }
   },
   "types_to_exclude": [
    "module",
    "function",
    "builtin_function_or_method",
    "instance",
    "_Feature"
   ],
   "window_display": false
  }
 },
 "nbformat": 4,
 "nbformat_minor": 1
}
