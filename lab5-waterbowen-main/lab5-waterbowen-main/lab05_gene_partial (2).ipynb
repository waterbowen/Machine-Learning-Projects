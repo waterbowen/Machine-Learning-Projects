{
 "cells": [
  {
   "cell_type": "markdown",
   "metadata": {},
   "source": [
    "# Lab:  Logistic Regression for Gene Expression Data\n",
    "\n",
    "In this lab, we use logistic regression to predict biological characteristics (\"phenotypes\") from gene expression data.  In addition to the concepts in the [breast cancer demo](./demo04_breast_cancer.ipynb), you will learn to:\n",
    "* Handle missing data\n",
    "* Perform multi-class logistic classification\n",
    "* Create a confusion matrix\n",
    "* Use L1-regularization for improved estimation in the case of sparse weights\n",
    "\n",
    "## Background\n",
    "\n",
    "Genes are the basic unit in the DNA and encode blueprints for proteins.  When proteins are synthesized from a gene, the gene is said to \"express\".  Micro-arrays are devices that measure the expression levels of large numbers of genes in parallel.  By finding correlations between expression levels and phenotypes, scientists can identify possible genetic markers for biological characteristics.\n",
    "\n",
    "The data in this lab comes from:\n",
    "\n",
    "https://archive.ics.uci.edu/ml/datasets/Mice+Protein+Expression\n",
    "\n",
    "In this data, mice were characterized by three properties:\n",
    "* Whether they had down's syndrome (trisomy) or not\n",
    "* Whether they were stimulated to learn or not\n",
    "* Whether they had a drug memantine or a saline control solution.\n",
    "\n",
    "With these three choices, there are 8 possible classes for each mouse.  For each mouse, the expression levels were measured across 77 genes.  We will see if the characteristics can be predicted from the gene expression levels.  This classification could reveal which genes are potentially involved in Down's syndrome and if drugs and stimulation have any noticeable effects.\n"
   ]
  },
  {
   "cell_type": "markdown",
   "metadata": {},
   "source": [
    "## Load the Data\n",
    "\n",
    "We begin by loading the standard modules."
   ]
  },
  {
   "cell_type": "code",
   "execution_count": 1,
   "metadata": {},
   "outputs": [],
   "source": [
    "import pandas as pd\n",
    "import numpy as np\n",
    "import matplotlib\n",
    "import matplotlib.pyplot as plt\n",
    "%matplotlib inline\n",
    "from sklearn import linear_model, preprocessing"
   ]
  },
  {
   "cell_type": "markdown",
   "metadata": {},
   "source": [
    "Use the `pd.read_excel` command to read the data from \n",
    "\n",
    "https://archive.ics.uci.edu/ml/machine-learning-databases/00342/Data_Cortex_Nuclear.xls\n",
    "\n",
    "into a dataframe `df`.  Use the `index_col` option to specify that column 0 is the index.  Use the `df.head()` to print the first few rows."
   ]
  },
  {
   "cell_type": "code",
   "execution_count": 2,
   "metadata": {},
   "outputs": [
    {
     "name": "stdout",
     "output_type": "stream",
     "text": [
      "         DYRK1A_N   ITSN1_N    BDNF_N     NR1_N    NR2A_N    pAKT_N   pBRAF_N  \\\n",
      "MouseID                                                                         \n",
      "309_1    0.503644  0.747193  0.430175  2.816329  5.990152  0.218830  0.177565   \n",
      "309_2    0.514617  0.689064  0.411770  2.789514  5.685038  0.211636  0.172817   \n",
      "309_3    0.509183  0.730247  0.418309  2.687201  5.622059  0.209011  0.175722   \n",
      "309_4    0.442107  0.617076  0.358626  2.466947  4.979503  0.222886  0.176463   \n",
      "309_5    0.434940  0.617430  0.358802  2.365785  4.718679  0.213106  0.173627   \n",
      "\n",
      "         pCAMKII_N   pCREB_N    pELK_N  ...   pCFOS_N     SYP_N  H3AcK18_N  \\\n",
      "MouseID                                 ...                                  \n",
      "309_1     2.373744  0.232224  1.750936  ...  0.108336  0.427099   0.114783   \n",
      "309_2     2.292150  0.226972  1.596377  ...  0.104315  0.441581   0.111974   \n",
      "309_3     2.283337  0.230247  1.561316  ...  0.106219  0.435777   0.111883   \n",
      "309_4     2.152301  0.207004  1.595086  ...  0.111262  0.391691   0.130405   \n",
      "309_5     2.134014  0.192158  1.504230  ...  0.110694  0.434154   0.118481   \n",
      "\n",
      "           EGR1_N  H3MeK4_N    CaNA_N  Genotype  Treatment  Behavior   class  \n",
      "MouseID                                                                       \n",
      "309_1    0.131790  0.128186  1.675652   Control  Memantine       C/S  c-CS-m  \n",
      "309_2    0.135103  0.131119  1.743610   Control  Memantine       C/S  c-CS-m  \n",
      "309_3    0.133362  0.127431  1.926427   Control  Memantine       C/S  c-CS-m  \n",
      "309_4    0.147444  0.146901  1.700563   Control  Memantine       C/S  c-CS-m  \n",
      "309_5    0.140314  0.148380  1.839730   Control  Memantine       C/S  c-CS-m  \n",
      "\n",
      "[5 rows x 81 columns]\n"
     ]
    }
   ],
   "source": [
    "# TODO\n",
    "# df = ...\n",
    "df=pd.read_excel('https://archive.ics.uci.edu/ml/machine-learning-databases/00342/Data_Cortex_Nuclear.xls',index_col=0)\n",
    "print(df.head())"
   ]
  },
  {
   "cell_type": "markdown",
   "metadata": {},
   "source": [
    "This data has missing values.  The site:\n",
    "\n",
    "http://pandas.pydata.org/pandas-docs/stable/missing_data.html\n",
    "\n",
    "has an excellent summary of methods to deal with missing values.  Following the techniques there, create a new data frame `df1` where the missing values in each column are filled with the mean values from the non-missing values."
   ]
  },
  {
   "cell_type": "code",
   "execution_count": 3,
   "metadata": {},
   "outputs": [
    {
     "name": "stdout",
     "output_type": "stream",
     "text": [
      "         DYRK1A_N   ITSN1_N    BDNF_N     NR1_N    NR2A_N    pAKT_N   pBRAF_N  \\\n",
      "MouseID                                                                         \n",
      "309_1    0.503644  0.747193  0.430175  2.816329  5.990152  0.218830  0.177565   \n",
      "309_2    0.514617  0.689064  0.411770  2.789514  5.685038  0.211636  0.172817   \n",
      "309_3    0.509183  0.730247  0.418309  2.687201  5.622059  0.209011  0.175722   \n",
      "309_4    0.442107  0.617076  0.358626  2.466947  4.979503  0.222886  0.176463   \n",
      "309_5    0.434940  0.617430  0.358802  2.365785  4.718679  0.213106  0.173627   \n",
      "309_6    0.447506  0.628176  0.367388  2.385939  4.807635  0.218578  0.176233   \n",
      "309_7    0.428033  0.573696  0.342709  2.334224  4.473130  0.225173  0.184004   \n",
      "309_8    0.416923  0.564036  0.327703  2.260135  4.268735  0.214834  0.179668   \n",
      "309_9    0.386311  0.538428  0.317720  2.125725  4.063950  0.207222  0.167778   \n",
      "309_10   0.380827  0.499294  0.362462  2.096266  3.598587  0.227649  0.188093   \n",
      "309_11   0.366511  0.513278  0.327792  2.072572  3.661058  0.229475  0.193797   \n",
      "309_12   0.364154  0.499411  0.355124  2.006871  3.466627  0.216333  0.204358   \n",
      "309_13   0.364873  0.482102  0.312539  1.946201  3.349592  0.230898  0.188821   \n",
      "309_14   0.381911  0.485914  0.310951  1.958907  3.349290  0.225800  0.188519   \n",
      "309_15   0.374410  0.462313  0.344629  1.861162  3.287123  0.221811  0.185459   \n",
      "311_1    0.743118  0.862653  0.377742  2.735757  6.067570  0.219049  0.185338   \n",
      "311_2    0.711480  0.807054  0.351591  2.546888  5.595574  0.199170  0.165975   \n",
      "311_3    0.704633  0.802537  0.350110  2.467733  5.548400  0.205323  0.165058   \n",
      "311_4    0.677359  0.770235  0.356397  2.563223  4.975196  0.228087  0.186498   \n",
      "311_5    0.591572  0.678768  0.312480  2.164182  4.313938  0.195786  0.161102   \n",
      "\n",
      "         pCAMKII_N   pCREB_N    pELK_N  ...   pCFOS_N     SYP_N  H3AcK18_N  \\\n",
      "MouseID                                 ...                                  \n",
      "309_1     2.373744  0.232224  1.750936  ...  0.108336  0.427099   0.114783   \n",
      "309_2     2.292150  0.226972  1.596377  ...  0.104315  0.441581   0.111974   \n",
      "309_3     2.283337  0.230247  1.561316  ...  0.106219  0.435777   0.111883   \n",
      "309_4     2.152301  0.207004  1.595086  ...  0.111262  0.391691   0.130405   \n",
      "309_5     2.134014  0.192158  1.504230  ...  0.110694  0.434154   0.118481   \n",
      "309_6     2.141282  0.195188  1.442398  ...  0.109446  0.439833   0.116657   \n",
      "309_7     2.012414  0.195789  1.612036  ...  0.111483  0.406293   0.137229   \n",
      "309_8     2.007985  0.189803  1.424601  ...  0.113080  0.382532   0.123376   \n",
      "309_9     1.861514  0.180684  1.261891  ...  0.105490  0.435687   0.125173   \n",
      "309_10    1.717861  0.188093  1.414329  ...  0.116906  0.414793   0.146133   \n",
      "309_11    1.724508  0.185283  1.318670  ...  0.131254  0.385424   0.151816   \n",
      "309_12    1.672556  0.190224  1.166078  ...  0.125266  0.442394   0.149988   \n",
      "309_13    1.508687  0.171028  1.353360  ...  0.126934  0.440331   0.168370   \n",
      "309_14    1.509002  0.179835  1.219657  ...  0.125018  0.422163   0.178737   \n",
      "309_15    1.444239  0.176422  1.123023  ...  0.125788  0.446562   0.160602   \n",
      "311_1     2.277492  0.194465  2.379508  ...  0.131053  0.440142   0.129606   \n",
      "311_2     2.118811  0.174689  2.050484  ...  0.131053  0.454352   0.117010   \n",
      "311_3     2.107281  0.171401  1.938913  ...  0.131053  0.454509   0.111089   \n",
      "311_4     2.259045  0.190974  2.167848  ...  0.131053  0.458548   0.156690   \n",
      "311_5     1.975689  0.161912  1.768720  ...  0.131053  0.425027   0.126896   \n",
      "\n",
      "           EGR1_N  H3MeK4_N    CaNA_N  Genotype  Treatment  Behavior   class  \n",
      "MouseID                                                                       \n",
      "309_1    0.131790  0.128186  1.675652   Control  Memantine       C/S  c-CS-m  \n",
      "309_2    0.135103  0.131119  1.743610   Control  Memantine       C/S  c-CS-m  \n",
      "309_3    0.133362  0.127431  1.926427   Control  Memantine       C/S  c-CS-m  \n",
      "309_4    0.147444  0.146901  1.700563   Control  Memantine       C/S  c-CS-m  \n",
      "309_5    0.140314  0.148380  1.839730   Control  Memantine       C/S  c-CS-m  \n",
      "309_6    0.140766  0.142180  1.816389   Control  Memantine       C/S  c-CS-m  \n",
      "309_7    0.156682  0.157499  1.528484   Control  Memantine       C/S  c-CS-m  \n",
      "309_8    0.155612  0.159409  1.652658   Control  Memantine       C/S  c-CS-m  \n",
      "309_9    0.152711  0.158235  1.834599   Control  Memantine       C/S  c-CS-m  \n",
      "309_10   0.188849  0.192334  1.516862   Control  Memantine       C/S  c-CS-m  \n",
      "309_11   0.184601  0.193055  1.613548   Control  Memantine       C/S  c-CS-m  \n",
      "309_12   0.191862  0.195529  1.722971   Control  Memantine       C/S  c-CS-m  \n",
      "309_13   0.236878  0.214088  1.426934   Control  Memantine       C/S  c-CS-m  \n",
      "309_14   0.215581  0.225285  1.500070   Control  Memantine       C/S  c-CS-m  \n",
      "309_15   0.227937  0.224212  1.613897   Control  Memantine       C/S  c-CS-m  \n",
      "311_1    0.165288  0.163995  1.297220   Control  Memantine       C/S  c-CS-m  \n",
      "311_2    0.162857  0.158206  1.363189   Control  Memantine       C/S  c-CS-m  \n",
      "311_3    0.157731  0.158543  1.404481   Control  Memantine       C/S  c-CS-m  \n",
      "311_4    0.180153  0.195739  1.170038   Control  Memantine       C/S  c-CS-m  \n",
      "311_5    0.172995  0.169977  1.272986   Control  Memantine       C/S  c-CS-m  \n",
      "\n",
      "[20 rows x 81 columns]\n",
      "          DYRK1A_N   ITSN1_N    BDNF_N     NR1_N    NR2A_N    pAKT_N  \\\n",
      "MouseID                                                                \n",
      "309_1     0.503644  0.747193  0.430175  2.816329  5.990152  0.218830   \n",
      "309_2     0.514617  0.689064  0.411770  2.789514  5.685038  0.211636   \n",
      "309_3     0.509183  0.730247  0.418309  2.687201  5.622059  0.209011   \n",
      "309_4     0.442107  0.617076  0.358626  2.466947  4.979503  0.222886   \n",
      "309_5     0.434940  0.617430  0.358802  2.365785  4.718679  0.213106   \n",
      "...            ...       ...       ...       ...       ...       ...   \n",
      "J3295_11  0.254860  0.463591  0.254860  2.092082  2.600035  0.211736   \n",
      "J3295_12  0.272198  0.474163  0.251638  2.161390  2.801492  0.251274   \n",
      "J3295_13  0.228700  0.395179  0.234118  1.733184  2.220852  0.220665   \n",
      "J3295_14  0.221242  0.412894  0.243974  1.876347  2.384088  0.208897   \n",
      "J3295_15  0.302626  0.461059  0.256564  2.092790  2.594348  0.251001   \n",
      "\n",
      "           pBRAF_N  pCAMKII_N   pCREB_N    pELK_N  ...   pCFOS_N     SYP_N  \\\n",
      "MouseID                                            ...                       \n",
      "309_1     0.177565   2.373744  0.232224  1.750936  ...  0.108336  0.427099   \n",
      "309_2     0.172817   2.292150  0.226972  1.596377  ...  0.104315  0.441581   \n",
      "309_3     0.175722   2.283337  0.230247  1.561316  ...  0.106219  0.435777   \n",
      "309_4     0.176463   2.152301  0.207004  1.595086  ...  0.111262  0.391691   \n",
      "309_5     0.173627   2.134014  0.192158  1.504230  ...  0.110694  0.434154   \n",
      "...            ...        ...       ...       ...  ...       ...       ...   \n",
      "J3295_11  0.171262   2.483740  0.207317  1.057971  ...  0.183324  0.374088   \n",
      "J3295_12  0.182496   2.512737  0.216339  1.081150  ...  0.175674  0.375259   \n",
      "J3295_13  0.161435   1.989723  0.185164  0.884342  ...  0.158296  0.422121   \n",
      "J3295_14  0.173623   2.086028  0.192044  0.922595  ...  0.196296  0.397676   \n",
      "J3295_15  0.191811   2.361816  0.223632  1.064085  ...  0.187556  0.420347   \n",
      "\n",
      "          H3AcK18_N    EGR1_N  H3MeK4_N    CaNA_N  Genotype  Treatment  \\\n",
      "MouseID                                                                  \n",
      "309_1      0.114783  0.131790  0.128186  1.675652   Control  Memantine   \n",
      "309_2      0.111974  0.135103  0.131119  1.743610   Control  Memantine   \n",
      "309_3      0.111883  0.133362  0.127431  1.926427   Control  Memantine   \n",
      "309_4      0.130405  0.147444  0.146901  1.700563   Control  Memantine   \n",
      "309_5      0.118481  0.140314  0.148380  1.839730   Control  Memantine   \n",
      "...             ...       ...       ...       ...       ...        ...   \n",
      "J3295_11   0.318782  0.204660  0.328327  1.364823    Ts65Dn     Saline   \n",
      "J3295_12   0.325639  0.200415  0.293435  1.364478    Ts65Dn     Saline   \n",
      "J3295_13   0.321306  0.229193  0.355213  1.430825    Ts65Dn     Saline   \n",
      "J3295_14   0.335936  0.251317  0.365353  1.404031    Ts65Dn     Saline   \n",
      "J3295_15   0.335062  0.252995  0.365278  1.370999    Ts65Dn     Saline   \n",
      "\n",
      "          Behavior   class  \n",
      "MouseID                     \n",
      "309_1          C/S  c-CS-m  \n",
      "309_2          C/S  c-CS-m  \n",
      "309_3          C/S  c-CS-m  \n",
      "309_4          C/S  c-CS-m  \n",
      "309_5          C/S  c-CS-m  \n",
      "...            ...     ...  \n",
      "J3295_11       S/C  t-SC-s  \n",
      "J3295_12       S/C  t-SC-s  \n",
      "J3295_13       S/C  t-SC-s  \n",
      "J3295_14       S/C  t-SC-s  \n",
      "J3295_15       S/C  t-SC-s  \n",
      "\n",
      "[1080 rows x 81 columns]\n"
     ]
    }
   ],
   "source": [
    "# TODO\n",
    "# df1 = ...\n",
    "df1=df.fillna(df.mean())\n",
    "print(df1.head(20))\n",
    "print(df1)"
   ]
  },
  {
   "cell_type": "markdown",
   "metadata": {},
   "source": [
    "## Binary Classification for Down's Syndrome\n",
    "\n",
    "We will first predict the binary class label in `df1['Genotype']` which indicates if the mouse has Down's syndrome or not.  Get the string values in `df1['Genotype'].values` and convert this to a numeric vector `y` with 0 or 1.  You may wish to use the `np.unique` command with the `return_inverse=True` option."
   ]
  },
  {
   "cell_type": "code",
   "execution_count": 4,
   "metadata": {},
   "outputs": [
    {
     "name": "stdout",
     "output_type": "stream",
     "text": [
      "[0 0 0 ... 1 1 1]\n"
     ]
    }
   ],
   "source": [
    "# TODO\n",
    "# y = ...\n",
    "y=df1['Genotype'].values\n",
    "\n",
    "y1=np.unique(y,return_inverse=True)\n",
    "\n",
    "print(y1[1])\n"
   ]
  },
  {
   "cell_type": "markdown",
   "metadata": {},
   "source": [
    "As predictors, get all but the last four columns of the dataframes.  Standardize the data matrix and call the standardized matrix `Xs`.  The predictors are the expression levels of the 77 genes. "
   ]
  },
  {
   "cell_type": "code",
   "execution_count": 5,
   "metadata": {},
   "outputs": [
    {
     "name": "stdout",
     "output_type": "stream",
     "text": [
      "[[ 0.31271112  0.5179336   2.2536689  ... -1.41662394 -1.60789061\n",
      "   1.06590091]\n",
      " [ 0.35679793  0.28650133  1.8802795  ... -1.32521803 -1.54684392\n",
      "   1.28029118]\n",
      " [ 0.33496588  0.45046461  2.01292763 ... -1.37325709 -1.62359464\n",
      "   1.85703831]\n",
      " ...\n",
      " [-0.79192771 -0.88354273 -1.72382963 ...  1.27078193  3.11724261\n",
      "   0.29352469]\n",
      " [-0.82188815 -0.8130138  -1.52387571 ...  1.88117889  3.32828966\n",
      "   0.2089962 ]\n",
      " [-0.49491588 -0.62125474 -1.26845332 ...  1.92748438  3.32672533\n",
      "   0.10478825]]\n"
     ]
    }
   ],
   "source": [
    "# TODO\n",
    "# Xs = ..\n",
    "df2=df1.iloc[:,0:77]\n",
    "from sklearn.preprocessing import StandardScaler\n",
    "scaler=StandardScaler()\n",
    "Xs=scaler.fit_transform(df2)\n",
    "\n",
    "\n",
    "print(Xs)"
   ]
  },
  {
   "cell_type": "markdown",
   "metadata": {},
   "source": [
    "Create a `LogisticRegression` object `logreg` and `fit` the training data. Use `C = 1e5`and the 'liblinear' solver."
   ]
  },
  {
   "cell_type": "code",
   "execution_count": 6,
   "metadata": {},
   "outputs": [
    {
     "data": {
      "text/plain": [
       "LogisticRegression(C=100000.0, solver='liblinear')"
      ]
     },
     "execution_count": 6,
     "metadata": {},
     "output_type": "execute_result"
    }
   ],
   "source": [
    "logreg=linear_model.LogisticRegression(C = 1e5,solver='liblinear')\n",
    "logreg.fit(Xs,y)"
   ]
  },
  {
   "cell_type": "markdown",
   "metadata": {},
   "source": [
    "Measure the training accuracy of the classifer.  That is, use the `logreg.predict` function to predict labels `yhat` and measure the fraction of cases that the predictions match the true labels.  Later, we will evaluate the accuracy (and AUC) more properly using cross-validation."
   ]
  },
  {
   "cell_type": "code",
   "execution_count": 7,
   "metadata": {},
   "outputs": [
    {
     "name": "stdout",
     "output_type": "stream",
     "text": [
      "Accuracy on training data = 1.000000\n"
     ]
    }
   ],
   "source": [
    "yhat = logreg.predict(Xs)\n",
    "acc = np.mean(yhat == y)\n",
    "print(\"Accuracy on training data = %f\" % acc)"
   ]
  },
  {
   "cell_type": "markdown",
   "metadata": {},
   "source": [
    "## Interpreting the weight vector"
   ]
  },
  {
   "cell_type": "markdown",
   "metadata": {},
   "source": [
    "Create a stem plot of the coefficients, `W`, in the logistic regression model using `plt.stem`.  You can get the coefficients from `logreg.coef_`, but you will need to reshape this to a 1D array.  "
   ]
  },
  {
   "cell_type": "code",
   "execution_count": 8,
   "metadata": {},
   "outputs": [
    {
     "data": {
      "text/plain": [
       "<StemContainer object of 3 artists>"
      ]
     },
     "execution_count": 8,
     "metadata": {},
     "output_type": "execute_result"
    },
    {
     "data": {
      "image/png": "[encoded data removed]",
      "text/plain": [
       "<Figure size 432x288 with 1 Axes>"
      ]
     },
     "metadata": {
      "needs_background": "light"
     },
     "output_type": "display_data"
    }
   ],
   "source": [
    "# TODO\n",
    "W = logreg.coef_.reshape(-1)\n",
    "plt.stem(W)"
   ]
  },
  {
   "cell_type": "markdown",
   "metadata": {},
   "source": [
    "You should see that `W[i]` is very large for a few components `i`.  These are the genes that are likely to be most involved in Down's Syndrome.  Using L1 regularization we will later force logistic regression to return a sparse vector `W`.  \n",
    "\n",
    "Find the names of the genes for two components `i` where the magnitude of `W[i]` is largest.  "
   ]
  },
  {
   "cell_type": "code",
   "execution_count": 9,
   "metadata": {},
   "outputs": [
    {
     "name": "stdout",
     "output_type": "stream",
     "text": [
      "[ 16.76135724 100.78769901  12.43390757 -28.41889476  -3.13661177\n",
      "   8.31686459   4.48339598  -7.23332112  16.44125793 -29.52483617\n",
      " -16.10991204  11.65602682  29.69027298  -9.21647777  -9.69224115\n",
      "   7.65403073   4.70974599 -14.43352567 -27.44049414  11.3944864\n",
      " -67.05273386 -19.22542662 -18.40367014 -45.69826893 -59.98744224\n",
      "  17.8109068    2.09228142  11.87741955  20.10203784   1.27185231\n",
      "  25.31128988   4.95261388  22.06829921 -16.01102568   0.68655865\n",
      "   3.73202037   9.00451197 -23.37414069  -5.20686433  -7.65245573\n",
      "  -6.53590684  41.01296015   4.79735591  12.91835668  13.10267379\n",
      "  13.32555267 -10.75292377   4.18546144   2.24042038   8.56269001\n",
      "   9.7144092    0.26439961 -13.92265794  -5.82087674  15.55343684\n",
      "  -3.86288711   4.90784329  -8.94666162 -21.18951067   1.38576505\n",
      " -11.14203398  12.39700772  -7.57901984  18.22546039   0.8688318\n",
      "   4.09998185  -4.9507163  -17.72662673   3.93749257   8.30648489\n",
      "  -5.82087674   0.39376139 -13.16307908 -10.18088836   4.55877818\n",
      "  -3.92700762  16.97173595]\n",
      "1\n",
      "41\n",
      "ITSN1_N\n",
      "TIAM1_N\n"
     ]
    }
   ],
   "source": [
    "# TODO\n",
    "print(W)\n",
    "index = np.argsort(-W)\n",
    "print(index[0])\n",
    "print(index[1])\n",
    "print(df1.columns[index[0]])\n",
    "print(df1.columns[index[1]])"
   ]
  },
  {
   "cell_type": "markdown",
   "metadata": {},
   "source": [
    "## Cross Validation\n",
    "\n",
    "The above meaured the accuracy on the training data.  It is more accurate to measure the accuracy on the test data.  Perform 10-fold cross validation and measure the average precision, recall, and f1-score, and error rate.  Note that in performing the cross-validation, you will want to randomly permute the test and training sets using the `shuffle` option.  In this data set, all the samples from each class are bunched together, so shuffling is essential.  Print the mean precision, recall, f1-score, and error rate across all the folds."
   ]
  },
  {
   "cell_type": "code",
   "execution_count": 10,
   "metadata": {},
   "outputs": [
    {
     "name": "stdout",
     "output_type": "stream",
     "text": [
      "Precision = 0.9436, SE=0.0069\n",
      "Recall =    0.9562, SE=0.0075\n",
      "f1 =        0.9495, SE=0.0033\n",
      "Accuracy =  0.9519, SE=0.0039\n"
     ]
    }
   ],
   "source": [
    "from sklearn.model_selection import KFold\n",
    "from sklearn.model_selection import cross_validate\n",
    "\n",
    "# Instantiate KFold object\n",
    "nfold = 10\n",
    "kf = KFold(n_splits=nfold,shuffle=True,random_state=42)\n",
    "\n",
    "# Do cross-validation\n",
    "cv_results = cross_validate(logreg, Xs, y1[1], cv=kf, scoring=('precision', 'recall', 'f1', 'accuracy'))\n",
    "\n",
    "# Extract test metrics\n",
    "prec = cv_results['test_precision']\n",
    "rec = cv_results['test_recall']\n",
    "f1 = cv_results['test_f1']\n",
    "acc = cv_results['test_accuracy']\n",
    "\n",
    "# Take average values of the metrics\n",
    "precm = np.mean(prec)\n",
    "recm = np.mean(rec)\n",
    "f1m = np.mean(f1)\n",
    "accm= np.mean(acc)\n",
    "\n",
    "# Compute the standard errors\n",
    "prec_se = np.std(prec,ddof=1)/np.sqrt(nfold)\n",
    "rec_se = np.std(rec,ddof=1)/np.sqrt(nfold)\n",
    "f1_se = np.std(f1,ddof=1)/np.sqrt(nfold)\n",
    "acc_se = np.std(acc,ddof=1)/np.sqrt(nfold)\n",
    "\n",
    "print('Precision = {0:.4f}, SE={1:.4f}'.format(precm,prec_se))\n",
    "print('Recall =    {0:.4f}, SE={1:.4f}'.format(recm, rec_se))\n",
    "print('f1 =        {0:.4f}, SE={1:.4f}'.format(f1m, f1_se))\n",
    "print('Accuracy =  {0:.4f}, SE={1:.4f}'.format(accm, acc_se))\n",
    "\n",
    "\n",
    "\n"
   ]
  },
  {
   "cell_type": "markdown",
   "metadata": {},
   "source": [
    "## Multi-Class Classification\n",
    "\n",
    "Now use the response variable in `df1['class']`.  This has 8 possible classes.  Use the `np.unique` funtion as before to convert this to a vector `y` with values 0 to 7. "
   ]
  },
  {
   "cell_type": "code",
   "execution_count": 11,
   "metadata": {},
   "outputs": [
    {
     "name": "stdout",
     "output_type": "stream",
     "text": [
      "['c-CS-m' 'c-CS-m' 'c-CS-m' ... 't-SC-s' 't-SC-s' 't-SC-s']\n",
      "[0 0 0 ... 7 7 7]\n"
     ]
    }
   ],
   "source": [
    "# TODO\n",
    "# y = ...\n",
    "a=df1['class'].values\n",
    "print(a)\n",
    "\n",
    "y=np.unique(a,return_inverse=True)\n",
    "print(y[1])\n"
   ]
  },
  {
   "cell_type": "markdown",
   "metadata": {},
   "source": [
    "The next task is to fit a multi-class logistic model by creating a `LogisticRegression` object, `logreg` and then calling the `logreg.fit` method. \n",
    "\n",
    "In general, you could set the `multi_class` option at either 'one-versus-rest/all (ovr)' or 'multinomial'.  The 'multinomial' option is what we discussed in the lecture as _multinomial logistic regression_.  Meanwhile, 'ovr' trains a separate one-versus-rest classifier for each class using _binary_ logistic regression, and then chooses the class yielding the highest score.  Usually 'multinomial' option works better than 'ovr', but it is takes longer to fit the coefficients.  To save time, we will use the 'ovr' option in this lab, but feel free to try the 'multinomial' option later if you want.  Note that, for 'multinomial', you will have fewer choices of optimizer and you may need to increase the `max_iter` parameter relative to the default value.\n",
    "\n",
    "In this lab, use `multi_class='ovr'`, the `solver='liblinear'` solver, and `C=1`."
   ]
  },
  {
   "cell_type": "code",
   "execution_count": 12,
   "metadata": {},
   "outputs": [
    {
     "data": {
      "text/plain": [
       "LogisticRegression(C=1, multi_class='ovr', solver='liblinear')"
      ]
     },
     "execution_count": 12,
     "metadata": {},
     "output_type": "execute_result"
    }
   ],
   "source": [
    "# TODO\n",
    "logreg = linear_model.LogisticRegression(C=1,multi_class='ovr',solver='liblinear')\n",
    "logreg.fit(Xs,y[1])"
   ]
  },
  {
   "cell_type": "markdown",
   "metadata": {},
   "source": [
    "Measure the accuracy on the training data."
   ]
  },
  {
   "cell_type": "code",
   "execution_count": 13,
   "metadata": {},
   "outputs": [
    {
     "name": "stdout",
     "output_type": "stream",
     "text": [
      "Accuracy on training data = 0.999074\n"
     ]
    }
   ],
   "source": [
    "yhat = logreg.predict(Xs)\n",
    "acc = np.mean(yhat == y[1])\n",
    "print(\"Accuracy on training data = %f\" % acc)"
   ]
  },
  {
   "cell_type": "markdown",
   "metadata": {},
   "source": [
    "Now perform 10-fold cross validation, and measure the confusion matrix `C` on the test data in each fold. You can use the `confusion_matrix` method in the `sklearn` package. Add the confusion matrix counts across all folds. Finally, normalize the rows of the confusion matrix so that they sum to one. Thus, each element `C[i,j]` will represent the fraction of samples where `yhat==j` given `ytrue==i`. Plot the confusion matrix. You can use the `sklearn` command\n",
    "\n",
    "    disp = ConfusionMatrixDisplay(confusion_matrix=C)\n",
    "    disp.plot()\n",
    "    \n",
    "to create a nicely formatted plot.  Also print the overall mean and SE of the test accuracy across the folds."
   ]
  },
  {
   "cell_type": "code",
   "execution_count": 14,
   "metadata": {},
   "outputs": [
    {
     "data": {
      "text/plain": [
       "<sklearn.metrics._plot.confusion_matrix.ConfusionMatrixDisplay at 0x7fa30955b610>"
      ]
     },
     "execution_count": 14,
     "metadata": {},
     "output_type": "execute_result"
    },
    {
     "data": {
      "image/png": "[encoded data removed]",
      "text/plain": [
       "<Figure size 432x288 with 2 Axes>"
      ]
     },
     "metadata": {
      "needs_background": "light"
     },
     "output_type": "display_data"
    }
   ],
   "source": [
    "from sklearn.model_selection import cross_val_predict\n",
    "from sklearn.metrics import confusion_matrix\n",
    "from sklearn.metrics import ConfusionMatrixDisplay\n",
    "nfold = 10\n",
    "kf = KFold(n_splits=nfold,shuffle=True,random_state=42)\n",
    "\n",
    "yhat = cross_val_predict(logreg, Xs, y[1], cv=kf)\n",
    "C = confusion_matrix(y[1],yhat,normalize='true')\n",
    "\n",
    "# Plot the confusion matrix\n",
    "disp = ConfusionMatrixDisplay(confusion_matrix=C)\n",
    "disp.plot()"
   ]
  },
  {
   "cell_type": "markdown",
   "metadata": {},
   "source": [
    "Re-run the logistic regression on the entire training data and get the weight coefficients.  This should be a 8 x 77 matrix.  Create a stem plot of the first row of this matrix to see the coefficients on each of the genes for the first class."
   ]
  },
  {
   "cell_type": "code",
   "execution_count": 15,
   "metadata": {},
   "outputs": [
    {
     "data": {
      "text/plain": [
       "<StemContainer object of 3 artists>"
      ]
     },
     "execution_count": 15,
     "metadata": {},
     "output_type": "execute_result"
    },
    {
     "data": {
      "image/png": "[encoded data removed]",
      "text/plain": [
       "<Figure size 432x288 with 1 Axes>"
      ]
     },
     "metadata": {
      "needs_background": "light"
     },
     "output_type": "display_data"
    }
   ],
   "source": [
    "\n",
    "W= logreg.coef_\n",
    "\n",
    "plt.stem(W[0,:])"
   ]
  },
  {
   "cell_type": "markdown",
   "metadata": {
    "collapsed": true
   },
   "source": [
    "## L1-Regularization\n",
    "\n",
    "In most genetic problems, only a limited number of the tested genes are likely to influence any particular attribute.  Hence, we would expect that the weight coefficients in the logistic regression model should be sparse.  That is, they should be zero on any gene that plays no role in the particular attribute of interest.  Genetic analysis commonly imposes sparsity by adding an l1-penalty term.  Read the `sklearn` [documentation](http://scikit-learn.org/stable/modules/generated/sklearn.linear_model.LogisticRegression.html) on the `LogisticRegression` class to see how to set the l1-penalty and the inverse regularization strength, `C`.\n",
    "\n",
    "Using the model selection strategies from the [prostate cancer analysis demo](../unit03_model_sel/demo03_2_prostate.ipynb), use K-fold cross validation to select an appropriate inverse regularization strength.  \n",
    "* Use 10-fold cross validation \n",
    "* You should select around 20 values of `C`.  It is up to you to find a good range."
   ]
  },
  {
   "cell_type": "code",
   "execution_count": 16,
   "metadata": {},
   "outputs": [],
   "source": [
    "from sklearn.model_selection import GridSearchCV\n",
    "\n",
    "# Define the grid\n",
    "npen = 20\n",
    "C_lasso = np.logspace(-2,0,npen)"
   ]
  },
  {
   "cell_type": "markdown",
   "metadata": {},
   "source": [
    "Now compute the mean and standard error on the error rate for each `C` and plot the results (Use `errorbar()` method).  Also determine and print the minimum test error rate and corresponding `C` value. "
   ]
  },
  {
   "cell_type": "code",
   "execution_count": 17,
   "metadata": {},
   "outputs": [
    {
     "name": "stdout",
     "output_type": "stream",
     "text": [
      "The minimum test error rate =   8.3333e-03, SE=  2.9117e-03\n",
      "The C value corresponding to minimum error =   1.0000e+00\n"
     ]
    },
    {
     "data": {
      "image/png": "[encoded data removed]",
      "text/plain": [
       "<Figure size 432x288 with 1 Axes>"
      ]
     },
     "metadata": {
      "needs_background": "light"
     },
     "output_type": "display_data"
    }
   ],
   "source": [
    "# TODO\n",
    "# Create the lasso object\n",
    "lasso = linear_model.LogisticRegression(penalty='l1', solver='liblinear', warm_start=True)\n",
    "\n",
    "# Run cross-validation\n",
    "parameters = {'C':C_lasso}\n",
    "clf = GridSearchCV(lasso, parameters, cv=kf, scoring='accuracy')\n",
    "clf.fit(Xs,y[1])\n",
    "\n",
    "# Average test results across folds\n",
    "err_mean = 1-clf.cv_results_['mean_test_score'] # error-rate = 1-accuracy\n",
    "err_se = clf.cv_results_['std_test_score']/np.sqrt(nfold-1)\n",
    "imin = np.argmin(err_mean)\n",
    "C_min = C_lasso[imin]\n",
    "plt.errorbar(np.log10(C_lasso), err_mean, marker='o',yerr=err_se)\n",
    "xmin, xmax, ymin, ymax = plt.axis()\n",
    "plt.plot(np.log10([C_min,C_min]),[ymin,ymax],'--')\n",
    "plt.ylim([0,0.15])\n",
    "plt.grid()\n",
    "plt.xlabel('log10(C)')\n",
    "plt.ylabel('Error rate')\n",
    "\n",
    "print(\"The minimum test error rate = %12.4e, SE=%12.4e\" % (err_mean[imin], err_se[imin]))\n",
    "print(\"The C value corresponding to minimum error = %12.4e\" % C_min)"
   ]
  },
  {
   "cell_type": "markdown",
   "metadata": {},
   "source": [
    "We see that the minimum error rate is significantly below the classifier that did not use the l1-penalty.  Use the one-standard error rule to determine the optimal `C` and the corresponding test error rate. "
   ]
  },
  {
   "cell_type": "code",
   "execution_count": 18,
   "metadata": {},
   "outputs": [
    {
     "name": "stdout",
     "output_type": "stream",
     "text": [
      "One-standard-error-rule C=  7.8476e-01\n",
      "The test error rate =   9.2593e-03, SE=  3.3810e-03\n",
      "Accuracy =  0.9907, SE=0.0034\n"
     ]
    },
    {
     "data": {
      "image/png": "[encoded data removed]",
      "text/plain": [
       "<Figure size 432x288 with 1 Axes>"
      ]
     },
     "metadata": {
      "needs_background": "light"
     },
     "output_type": "display_data"
    }
   ],
   "source": [
    "# TODO\n",
    "# C_opt = \n",
    "# One-standard-error rule\n",
    "err_tgt = err_mean[imin] + err_se[imin]\n",
    "iose = np.where(err_mean < err_tgt)[0][0]\n",
    "C_ose = C_lasso[iose]\n",
    "\n",
    "# Plot error statistics versus C\n",
    "plt.errorbar(np.log10(C_lasso), err_mean, marker='o',yerr=err_se)\n",
    "xmin, xmax, ymin, ymax = plt.axis()\n",
    "plt.plot(np.log10([C_min,C_min]),[ymin,err_tgt],'--')\n",
    "plt.plot([xmin,xmax],[err_tgt,err_tgt],'--')\n",
    "plt.plot(np.log10([C_ose,C_ose]),[ymin,ymax],'--')\n",
    "plt.ylim([0,0.095])\n",
    "plt.grid()\n",
    "plt.xlabel('log10(C)')\n",
    "plt.ylabel('Error rate')\n",
    "\n",
    "print(\"One-standard-error-rule C=%12.4e\" % C_ose)\n",
    "print(\"The test error rate = %12.4e, SE=%12.4e\" % (err_mean[iose], err_se[iose]))\n",
    "print('Accuracy =  {0:.4f}, SE={1:.4f}'.format(1-err_mean[iose], err_se[iose]))"
   ]
  },
  {
   "cell_type": "markdown",
   "metadata": {},
   "source": [
    "For the optimal `C`, fit the model on the entire training data with l1 regularization. Find the resulting weight matrix, `W_l1`.  Plot the first row of this weight matrix and compare it to the first row of the weight matrix without the regularization.  You should see that, with l1-regularization, the weight matrix is much more sparse and hence the roles of particular genes are more clearly visible. Also compare the accuracy for the training data using optimal `C` with the previous results not using LASSO regularization. Do you expect the accuracy to improve?"
   ]
  },
  {
   "cell_type": "code",
   "execution_count": 19,
   "metadata": {},
   "outputs": [
    {
     "data": {
      "text/plain": [
       "<Figure size 1008x288 with 0 Axes>"
      ]
     },
     "execution_count": 19,
     "metadata": {},
     "output_type": "execute_result"
    },
    {
     "data": {
      "image/png": "[encoded data removed]",
      "text/plain": [
       "<Figure size 432x288 with 1 Axes>"
      ]
     },
     "metadata": {
      "needs_background": "light"
     },
     "output_type": "display_data"
    },
    {
     "data": {
      "image/png": "[encoded data removed]",
      "text/plain": [
       "<Figure size 1008x288 with 1 Axes>"
      ]
     },
     "metadata": {
      "needs_background": "light"
     },
     "output_type": "display_data"
    },
    {
     "data": {
      "text/plain": [
       "<Figure size 1008x288 with 0 Axes>"
      ]
     },
     "metadata": {},
     "output_type": "display_data"
    }
   ],
   "source": [
    "# Re-fit LASSO on entire training data\n",
    "lasso = linear_model.LogisticRegression(C=C_ose,solver='liblinear')\n",
    "lasso.fit(Xs,y[1])\n",
    "W= lasso.coef_\n",
    "plt.stem(W[0,:])\n",
    "plt.title('No regularization')\n",
    "plt.figure(figsize=(14,4))\n",
    "\n",
    "lasso = linear_model.LogisticRegression(penalty='l1',C=C_ose,solver='liblinear')\n",
    "lasso.fit(Xs,y[1])\n",
    "W= lasso.coef_\n",
    "plt.stem(W[0,:])\n",
    "plt.title('l1')\n",
    "plt.figure(figsize=(14,4))\n",
    "\n",
    "\n"
   ]
  },
  {
   "cell_type": "code",
   "execution_count": null,
   "metadata": {},
   "outputs": [],
   "source": []
  },
  {
   "cell_type": "code",
   "execution_count": 20,
   "metadata": {},
   "outputs": [
    {
     "name": "stdout",
     "output_type": "stream",
     "text": [
      "Accuracy on training data = 0.998148\n",
      "old data data = 0.999074\n"
     ]
    }
   ],
   "source": [
    "yhat = lasso.predict(Xs)\n",
    "acc = np.mean(yhat == y[1])\n",
    "print(\"Accuracy on training data = %f\" % acc)\n",
    "print(\"old data data = %f\" % 0.999074)"
   ]
  },
  {
   "cell_type": "code",
   "execution_count": null,
   "metadata": {},
   "outputs": [],
   "source": []
  }
 ],
 "metadata": {
  "anaconda-cloud": {},
  "kernelspec": {
   "display_name": "Python 3",
   "language": "python",
   "name": "python3"
  },
  "language_info": {
   "codemirror_mode": {
    "name": "ipython",
    "version": 3
   },
   "file_extension": ".py",
   "mimetype": "text/x-python",
   "name": "python",
   "nbconvert_exporter": "python",
   "pygments_lexer": "ipython3",
   "version": "3.8.8"
  },
  "varInspector": {
   "cols": {
    "lenName": 16,
    "lenType": 16,
    "lenVar": 40
   },
   "kernels_config": {
    "python": {
     "delete_cmd_postfix": "",
     "delete_cmd_prefix": "del ",
     "library": "var_list.py",
     "varRefreshCmd": "print(var_dic_list())"
    },
    "r": {
     "delete_cmd_postfix": ") ",
     "delete_cmd_prefix": "rm(",
     "library": "var_list.r",
     "varRefreshCmd": "cat(var_dic_list()) "
    }
   },
   "types_to_exclude": [
    "module",
    "function",
    "builtin_function_or_method",
    "instance",
    "_Feature"
   ],
   "window_display": false
  }
 },
 "nbformat": 4,
 "nbformat_minor": 1
}
